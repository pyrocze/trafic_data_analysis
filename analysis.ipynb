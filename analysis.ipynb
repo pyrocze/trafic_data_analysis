{
 "cells": [
  {
   "cell_type": "code",
   "execution_count": 22,
   "id": "initial_id",
   "metadata": {
    "collapsed": true,
    "ExecuteTime": {
     "end_time": "2024-03-28T08:58:03.768365Z",
     "start_time": "2024-03-28T08:57:39.903801Z"
    }
   },
   "outputs": [],
   "source": [
    "import numpy as np\n",
    "import sklearn as sk\n",
    "import pandas as pd\n",
    "import random\n",
    "\n",
    "pd.set_option('display.float_format', lambda x: '%.3f' % x)\n",
    "\n",
    "# For speed during testing load only small percentage of the data\n",
    "p = 0.01  # 1% of the lines\n",
    "skip_rows = lambda i: i > 0 and random.random() > p\n",
    "accidents_df = pd.read_csv(\"./data/Accident_Information.csv\",\n",
    "                           skiprows=skip_rows)\n",
    "# UnicodeDecodeError: 'utf-8' codec can't decode byte 0xa0 in position 3169: invalid start byte\n",
    "vehicle_df = pd.read_csv(\"./data/Vehicle_Information.csv\", encoding=\"latin1\")"
   ]
  },
  {
   "cell_type": "code",
   "outputs": [
    {
     "data": {
      "text/plain": "      Accident_Index 1st_Road_Class  1st_Road_Number 2nd_Road_Class  \\\n0      200501BS70153              A                4              A   \n1      200501BS70343              A             3216            NaN   \n2      200501BS70542              A              315   Unclassified   \n3      200501BS70679              A              402   Unclassified   \n4      200501BS70751              C                0            NaN   \n...              ...            ...              ...            ...   \n26954  201797UD00702              A               77            NaN   \n26955  201797UD01210              A              719   Unclassified   \n26956  201797UD70205              B              730   Unclassified   \n26957  201797UD71103              A               77   Unclassified   \n26958  2017984116917              A               75            NaN   \n\n       2nd_Road_Number Accident_Severity Carriageway_Hazards        Date  \\\n0             3220.000            Slight                 NaN  2005-04-13   \n1                0.000            Slight                 NaN  2005-07-09   \n2                0.000            Slight                 NaN  2005-08-28   \n3                0.000            Slight                 NaN  2005-11-13   \n4                0.000            Slight                 NaN  2005-11-25   \n...                ...               ...                 ...         ...   \n26954            0.000            Slight                 NaN  2017-02-09   \n26955            0.000            Slight                 NaN  2017-10-26   \n26956            0.000           Serious                 NaN  2017-05-09   \n26957            0.000           Serious                 NaN  2017-03-26   \n26958            0.000            Slight                 NaN  2017-09-24   \n\n      Day_of_Week  Did_Police_Officer_Attend_Scene_of_Accident  ...  \\\n0       Wednesday                                        1.000  ...   \n1        Saturday                                        1.000  ...   \n2          Sunday                                        1.000  ...   \n3          Sunday                                        1.000  ...   \n4          Friday                                        2.000  ...   \n...           ...                                          ...  ...   \n26954    Thursday                                        1.000  ...   \n26955    Thursday                                        1.000  ...   \n26956     Tuesday                                        1.000  ...   \n26957      Sunday                                        1.000  ...   \n26958      Sunday                                        1.000  ...   \n\n      Skidding_and_Overturning Towing_and_Articulation  \\\n0                          NaN                     NaN   \n1                          NaN                     NaN   \n2                          NaN     No tow/articulation   \n3                          NaN                     NaN   \n4                          NaN     No tow/articulation   \n...                        ...                     ...   \n26954                      NaN                     NaN   \n26955                      NaN                     NaN   \n26956                      NaN                     NaN   \n26957                      NaN                     NaN   \n26958                      NaN                     NaN   \n\n       Vehicle_Leaving_Carriageway Vehicle_Location.Restricted_Lane  \\\n0                              NaN                              NaN   \n1                              NaN                              NaN   \n2        Did not leave carriageway                            0.000   \n3                              NaN                              NaN   \n4        Did not leave carriageway                            0.000   \n...                            ...                              ...   \n26954                          NaN                              NaN   \n26955                          NaN                              NaN   \n26956                          NaN                              NaN   \n26957                          NaN                              NaN   \n26958                          NaN                              NaN   \n\n       Vehicle_Manoeuvre Vehicle_Reference  Vehicle_Type  \\\n0                    NaN               NaN           NaN   \n1                    NaN               NaN           NaN   \n2                 U-turn             1.000           Car   \n3                    NaN               NaN           NaN   \n4      Going ahead other             2.000           Car   \n...                  ...               ...           ...   \n26954                NaN               NaN           NaN   \n26955                NaN               NaN           NaN   \n26956                NaN               NaN           NaN   \n26957                NaN               NaN           NaN   \n26958                NaN               NaN           NaN   \n\n       Was_Vehicle_Left_Hand_Drive  X1st_Point_of_Impact   Year_y  \n0                              NaN                   NaN      NaN  \n1                              NaN                   NaN      NaN  \n2                               No               Offside 2005.000  \n3                              NaN                   NaN      NaN  \n4                               No                 Front 2005.000  \n...                            ...                   ...      ...  \n26954                          NaN                   NaN      NaN  \n26955                          NaN                   NaN      NaN  \n26956                          NaN                   NaN      NaN  \n26957                          NaN                   NaN      NaN  \n26958                          NaN                   NaN      NaN  \n\n[26959 rows x 57 columns]",
      "text/html": "<div>\n<style scoped>\n    .dataframe tbody tr th:only-of-type {\n        vertical-align: middle;\n    }\n\n    .dataframe tbody tr th {\n        vertical-align: top;\n    }\n\n    .dataframe thead th {\n        text-align: right;\n    }\n</style>\n<table border=\"1\" class=\"dataframe\">\n  <thead>\n    <tr style=\"text-align: right;\">\n      <th></th>\n      <th>Accident_Index</th>\n      <th>1st_Road_Class</th>\n      <th>1st_Road_Number</th>\n      <th>2nd_Road_Class</th>\n      <th>2nd_Road_Number</th>\n      <th>Accident_Severity</th>\n      <th>Carriageway_Hazards</th>\n      <th>Date</th>\n      <th>Day_of_Week</th>\n      <th>Did_Police_Officer_Attend_Scene_of_Accident</th>\n      <th>...</th>\n      <th>Skidding_and_Overturning</th>\n      <th>Towing_and_Articulation</th>\n      <th>Vehicle_Leaving_Carriageway</th>\n      <th>Vehicle_Location.Restricted_Lane</th>\n      <th>Vehicle_Manoeuvre</th>\n      <th>Vehicle_Reference</th>\n      <th>Vehicle_Type</th>\n      <th>Was_Vehicle_Left_Hand_Drive</th>\n      <th>X1st_Point_of_Impact</th>\n      <th>Year_y</th>\n    </tr>\n  </thead>\n  <tbody>\n    <tr>\n      <th>0</th>\n      <td>200501BS70153</td>\n      <td>A</td>\n      <td>4</td>\n      <td>A</td>\n      <td>3220.000</td>\n      <td>Slight</td>\n      <td>NaN</td>\n      <td>2005-04-13</td>\n      <td>Wednesday</td>\n      <td>1.000</td>\n      <td>...</td>\n      <td>NaN</td>\n      <td>NaN</td>\n      <td>NaN</td>\n      <td>NaN</td>\n      <td>NaN</td>\n      <td>NaN</td>\n      <td>NaN</td>\n      <td>NaN</td>\n      <td>NaN</td>\n      <td>NaN</td>\n    </tr>\n    <tr>\n      <th>1</th>\n      <td>200501BS70343</td>\n      <td>A</td>\n      <td>3216</td>\n      <td>NaN</td>\n      <td>0.000</td>\n      <td>Slight</td>\n      <td>NaN</td>\n      <td>2005-07-09</td>\n      <td>Saturday</td>\n      <td>1.000</td>\n      <td>...</td>\n      <td>NaN</td>\n      <td>NaN</td>\n      <td>NaN</td>\n      <td>NaN</td>\n      <td>NaN</td>\n      <td>NaN</td>\n      <td>NaN</td>\n      <td>NaN</td>\n      <td>NaN</td>\n      <td>NaN</td>\n    </tr>\n    <tr>\n      <th>2</th>\n      <td>200501BS70542</td>\n      <td>A</td>\n      <td>315</td>\n      <td>Unclassified</td>\n      <td>0.000</td>\n      <td>Slight</td>\n      <td>NaN</td>\n      <td>2005-08-28</td>\n      <td>Sunday</td>\n      <td>1.000</td>\n      <td>...</td>\n      <td>NaN</td>\n      <td>No tow/articulation</td>\n      <td>Did not leave carriageway</td>\n      <td>0.000</td>\n      <td>U-turn</td>\n      <td>1.000</td>\n      <td>Car</td>\n      <td>No</td>\n      <td>Offside</td>\n      <td>2005.000</td>\n    </tr>\n    <tr>\n      <th>3</th>\n      <td>200501BS70679</td>\n      <td>A</td>\n      <td>402</td>\n      <td>Unclassified</td>\n      <td>0.000</td>\n      <td>Slight</td>\n      <td>NaN</td>\n      <td>2005-11-13</td>\n      <td>Sunday</td>\n      <td>1.000</td>\n      <td>...</td>\n      <td>NaN</td>\n      <td>NaN</td>\n      <td>NaN</td>\n      <td>NaN</td>\n      <td>NaN</td>\n      <td>NaN</td>\n      <td>NaN</td>\n      <td>NaN</td>\n      <td>NaN</td>\n      <td>NaN</td>\n    </tr>\n    <tr>\n      <th>4</th>\n      <td>200501BS70751</td>\n      <td>C</td>\n      <td>0</td>\n      <td>NaN</td>\n      <td>0.000</td>\n      <td>Slight</td>\n      <td>NaN</td>\n      <td>2005-11-25</td>\n      <td>Friday</td>\n      <td>2.000</td>\n      <td>...</td>\n      <td>NaN</td>\n      <td>No tow/articulation</td>\n      <td>Did not leave carriageway</td>\n      <td>0.000</td>\n      <td>Going ahead other</td>\n      <td>2.000</td>\n      <td>Car</td>\n      <td>No</td>\n      <td>Front</td>\n      <td>2005.000</td>\n    </tr>\n    <tr>\n      <th>...</th>\n      <td>...</td>\n      <td>...</td>\n      <td>...</td>\n      <td>...</td>\n      <td>...</td>\n      <td>...</td>\n      <td>...</td>\n      <td>...</td>\n      <td>...</td>\n      <td>...</td>\n      <td>...</td>\n      <td>...</td>\n      <td>...</td>\n      <td>...</td>\n      <td>...</td>\n      <td>...</td>\n      <td>...</td>\n      <td>...</td>\n      <td>...</td>\n      <td>...</td>\n      <td>...</td>\n    </tr>\n    <tr>\n      <th>26954</th>\n      <td>201797UD00702</td>\n      <td>A</td>\n      <td>77</td>\n      <td>NaN</td>\n      <td>0.000</td>\n      <td>Slight</td>\n      <td>NaN</td>\n      <td>2017-02-09</td>\n      <td>Thursday</td>\n      <td>1.000</td>\n      <td>...</td>\n      <td>NaN</td>\n      <td>NaN</td>\n      <td>NaN</td>\n      <td>NaN</td>\n      <td>NaN</td>\n      <td>NaN</td>\n      <td>NaN</td>\n      <td>NaN</td>\n      <td>NaN</td>\n      <td>NaN</td>\n    </tr>\n    <tr>\n      <th>26955</th>\n      <td>201797UD01210</td>\n      <td>A</td>\n      <td>719</td>\n      <td>Unclassified</td>\n      <td>0.000</td>\n      <td>Slight</td>\n      <td>NaN</td>\n      <td>2017-10-26</td>\n      <td>Thursday</td>\n      <td>1.000</td>\n      <td>...</td>\n      <td>NaN</td>\n      <td>NaN</td>\n      <td>NaN</td>\n      <td>NaN</td>\n      <td>NaN</td>\n      <td>NaN</td>\n      <td>NaN</td>\n      <td>NaN</td>\n      <td>NaN</td>\n      <td>NaN</td>\n    </tr>\n    <tr>\n      <th>26956</th>\n      <td>201797UD70205</td>\n      <td>B</td>\n      <td>730</td>\n      <td>Unclassified</td>\n      <td>0.000</td>\n      <td>Serious</td>\n      <td>NaN</td>\n      <td>2017-05-09</td>\n      <td>Tuesday</td>\n      <td>1.000</td>\n      <td>...</td>\n      <td>NaN</td>\n      <td>NaN</td>\n      <td>NaN</td>\n      <td>NaN</td>\n      <td>NaN</td>\n      <td>NaN</td>\n      <td>NaN</td>\n      <td>NaN</td>\n      <td>NaN</td>\n      <td>NaN</td>\n    </tr>\n    <tr>\n      <th>26957</th>\n      <td>201797UD71103</td>\n      <td>A</td>\n      <td>77</td>\n      <td>Unclassified</td>\n      <td>0.000</td>\n      <td>Serious</td>\n      <td>NaN</td>\n      <td>2017-03-26</td>\n      <td>Sunday</td>\n      <td>1.000</td>\n      <td>...</td>\n      <td>NaN</td>\n      <td>NaN</td>\n      <td>NaN</td>\n      <td>NaN</td>\n      <td>NaN</td>\n      <td>NaN</td>\n      <td>NaN</td>\n      <td>NaN</td>\n      <td>NaN</td>\n      <td>NaN</td>\n    </tr>\n    <tr>\n      <th>26958</th>\n      <td>2017984116917</td>\n      <td>A</td>\n      <td>75</td>\n      <td>NaN</td>\n      <td>0.000</td>\n      <td>Slight</td>\n      <td>NaN</td>\n      <td>2017-09-24</td>\n      <td>Sunday</td>\n      <td>1.000</td>\n      <td>...</td>\n      <td>NaN</td>\n      <td>NaN</td>\n      <td>NaN</td>\n      <td>NaN</td>\n      <td>NaN</td>\n      <td>NaN</td>\n      <td>NaN</td>\n      <td>NaN</td>\n      <td>NaN</td>\n      <td>NaN</td>\n    </tr>\n  </tbody>\n</table>\n<p>26959 rows × 57 columns</p>\n</div>"
     },
     "execution_count": 23,
     "metadata": {},
     "output_type": "execute_result"
    }
   ],
   "source": [
    "df = pd.merge(accidents_df, vehicle_df, on=\"Accident_Index\", how=\"left\")\n",
    "del vehicle_df\n",
    "del accidents_df\n",
    "df"
   ],
   "metadata": {
    "collapsed": false,
    "ExecuteTime": {
     "end_time": "2024-03-28T08:58:06.305117Z",
     "start_time": "2024-03-28T08:58:03.788573Z"
    }
   },
   "id": "c0eac257ec486cf6",
   "execution_count": 23
  },
  {
   "cell_type": "code",
   "outputs": [
    {
     "data": {
      "text/plain": "Accident_Index                                  object\n1st_Road_Class                                  object\n1st_Road_Number                                  int64\n2nd_Road_Class                                  object\n2nd_Road_Number                                float64\nAccident_Severity                               object\nCarriageway_Hazards                             object\nDate                                            object\nDay_of_Week                                     object\nDid_Police_Officer_Attend_Scene_of_Accident    float64\nJunction_Control                                object\nJunction_Detail                                 object\nLatitude                                       float64\nLight_Conditions                                object\nLocal_Authority_(District)                      object\nLocal_Authority_(Highway)                       object\nLocation_Easting_OSGR                          float64\nLocation_Northing_OSGR                         float64\nLongitude                                      float64\nLSOA_of_Accident_Location                       object\nNumber_of_Casualties                             int64\nNumber_of_Vehicles                               int64\nPedestrian_Crossing-Human_Control              float64\nPedestrian_Crossing-Physical_Facilities        float64\nPolice_Force                                    object\nRoad_Surface_Conditions                         object\nRoad_Type                                       object\nSpecial_Conditions_at_Site                      object\nSpeed_limit                                      int64\nTime                                            object\nUrban_or_Rural_Area                             object\nWeather_Conditions                              object\nYear_x                                           int64\nInScotland                                      object\nAge_Band_of_Driver                              object\nAge_of_Vehicle                                 float64\nDriver_Home_Area_Type                           object\nDriver_IMD_Decile                              float64\nEngine_Capacity_.CC.                           float64\nHit_Object_in_Carriageway                       object\nHit_Object_off_Carriageway                      object\nJourney_Purpose_of_Driver                       object\nJunction_Location                               object\nmake                                            object\nmodel                                           object\nPropulsion_Code                                 object\nSex_of_Driver                                   object\nSkidding_and_Overturning                        object\nTowing_and_Articulation                         object\nVehicle_Leaving_Carriageway                     object\nVehicle_Location.Restricted_Lane               float64\nVehicle_Manoeuvre                               object\nVehicle_Reference                              float64\nVehicle_Type                                    object\nWas_Vehicle_Left_Hand_Drive                     object\nX1st_Point_of_Impact                            object\nYear_y                                         float64\ndtype: object"
     },
     "execution_count": 24,
     "metadata": {},
     "output_type": "execute_result"
    }
   ],
   "source": [
    "df.dtypes"
   ],
   "metadata": {
    "collapsed": false,
    "ExecuteTime": {
     "end_time": "2024-03-28T08:58:06.330376Z",
     "start_time": "2024-03-28T08:58:06.307368Z"
    }
   },
   "id": "889802d6d414dbf7",
   "execution_count": 24
  },
  {
   "cell_type": "code",
   "outputs": [
    {
     "data": {
      "text/plain": "Accident_Index                                 20346\n1st_Road_Class                                     6\n1st_Road_Number                                 2633\n2nd_Road_Class                                     6\n2nd_Road_Number                                 1734\nAccident_Severity                                  3\nCarriageway_Hazards                                6\nDate                                            4667\nDay_of_Week                                        7\nDid_Police_Officer_Attend_Scene_of_Accident        3\nJunction_Control                                   6\nJunction_Detail                                   10\nLatitude                                       20161\nLight_Conditions                                   5\nLocal_Authority_(District)                       416\nLocal_Authority_(Highway)                        207\nLocation_Easting_OSGR                          16409\nLocation_Northing_OSGR                         16521\nLongitude                                      20203\nLSOA_of_Accident_Location                      12310\nNumber_of_Casualties                              13\nNumber_of_Vehicles                                12\nPedestrian_Crossing-Human_Control                  3\nPedestrian_Crossing-Physical_Facilities            6\nPolice_Force                                      51\nRoad_Surface_Conditions                            6\nRoad_Type                                          6\nSpecial_Conditions_at_Site                         8\nSpeed_limit                                        6\nTime                                            1350\nUrban_or_Rural_Area                                3\nWeather_Conditions                                10\nYear_x                                            13\nInScotland                                         2\nAge_Band_of_Driver                                12\nAge_of_Vehicle                                    42\nDriver_Home_Area_Type                              4\nDriver_IMD_Decile                                 10\nEngine_Capacity_.CC.                             732\nHit_Object_in_Carriageway                         12\nHit_Object_off_Carriageway                        11\nJourney_Purpose_of_Driver                          8\nJunction_Location                                 10\nmake                                             205\nmodel                                           7421\nPropulsion_Code                                    7\nSex_of_Driver                                      3\nSkidding_and_Overturning                           6\nTowing_and_Articulation                            7\nVehicle_Leaving_Carriageway                       10\nVehicle_Location.Restricted_Lane                  10\nVehicle_Manoeuvre                                 19\nVehicle_Reference                                 15\nVehicle_Type                                      18\nWas_Vehicle_Left_Hand_Drive                        3\nX1st_Point_of_Impact                               6\nYear_y                                            12\ndtype: int64"
     },
     "execution_count": 25,
     "metadata": {},
     "output_type": "execute_result"
    }
   ],
   "source": [
    "df.nunique()"
   ],
   "metadata": {
    "collapsed": false,
    "ExecuteTime": {
     "end_time": "2024-03-28T08:58:06.509101Z",
     "start_time": "2024-03-28T08:58:06.335275Z"
    }
   },
   "id": "b25dc2efeca30234",
   "execution_count": 25
  },
  {
   "cell_type": "markdown",
   "source": [
    "# Problems \n",
    "* Unclassified and NaN in the same columns -> we have to merge\n",
    "* Categorical values and not 1 hot encoded \n",
    "* "
   ],
   "metadata": {
    "collapsed": false
   },
   "id": "7a2eede07242d053"
  },
  {
   "cell_type": "code",
   "outputs": [
    {
     "data": {
      "text/plain": "Carriageway_Hazards                           98.338\nSpecial_Conditions_at_Site                    97.663\nHit_Object_in_Carriageway                     96.999\nHit_Object_off_Carriageway                    93.427\nSkidding_and_Overturning                      90.408\n2nd_Road_Class                                80.634\nJourney_Purpose_of_Driver                     55.469\nDriver_IMD_Decile                             49.542\nJunction_Control                              37.112\nAge_of_Vehicle                                37.027\nmodel                                         35.728\nDriver_Home_Area_Type                         35.276\nEngine_Capacity_.CC.                          33.863\nPropulsion_Code                               33.180\nAge_Band_of_Driver                            30.235\nmake                                          28.554\n1st_Road_Class                                27.623\nSex_of_Driver                                 26.974\nWas_Vehicle_Left_Hand_Drive                   24.678\nJunction_Location                             24.467\nX1st_Point_of_Impact                          24.400\nVehicle_Location.Restricted_Lane              24.396\nVehicle_Manoeuvre                             24.396\nTowing_and_Articulation                       24.389\nVehicle_Leaving_Carriageway                   24.381\nVehicle_Type                                  24.348\nVehicle_Reference                             24.344\nYear_y                                        24.344\nLSOA_of_Accident_Location                      6.859\n2nd_Road_Number                                0.857\nRoad_Surface_Conditions                        0.289\nPedestrian_Crossing-Physical_Facilities        0.137\nPedestrian_Crossing-Human_Control              0.111\nJunction_Detail                                0.030\nDid_Police_Officer_Attend_Scene_of_Accident    0.019\nLongitude                                      0.015\nLocation_Northing_OSGR                         0.015\nLocation_Easting_OSGR                          0.015\nLatitude                                       0.015\nTime                                           0.011\nWeather_Conditions                             0.004\nInScotland                                     0.004\nAccident_Index                                 0.000\nYear_x                                         0.000\nUrban_or_Rural_Area                            0.000\nRoad_Type                                      0.000\nPolice_Force                                   0.000\nNumber_of_Vehicles                             0.000\nNumber_of_Casualties                           0.000\nLocal_Authority_(Highway)                      0.000\nLocal_Authority_(District)                     0.000\nLight_Conditions                               0.000\nDay_of_Week                                    0.000\nDate                                           0.000\nAccident_Severity                              0.000\n1st_Road_Number                                0.000\nSpeed_limit                                    0.000\ndtype: float64"
     },
     "execution_count": 26,
     "metadata": {},
     "output_type": "execute_result"
    }
   ],
   "source": [
    "# Consolidate NaN\n",
    "df.replace(\n",
    "    [\n",
    "        \"Not known\",\n",
    "        \"Data missing or out of range\",\n",
    "        \"Unclassified\"\n",
    "    ],\n",
    "    np.nan, inplace=True)\n",
    "df.fillna(np.nan, inplace=True)\n",
    "# Get percentage of NaN values for each column\n",
    "na_percentage = df.isna().mean() * 100\n",
    "na_percentage.sort_values(ascending=False, inplace=True)\n",
    "na_percentage"
   ],
   "metadata": {
    "collapsed": false,
    "ExecuteTime": {
     "end_time": "2024-03-28T08:58:07.205473Z",
     "start_time": "2024-03-28T08:58:06.516036Z"
    }
   },
   "id": "8e1ed9000045e097",
   "execution_count": 26
  },
  {
   "cell_type": "markdown",
   "source": [
    "# NaN problems\n",
    "Some columns have too much missing values so we will drop them"
   ],
   "metadata": {
    "collapsed": false
   },
   "id": "f8b85f952fea9072"
  },
  {
   "cell_type": "code",
   "outputs": [
    {
     "data": {
      "text/plain": "Carriageway_Hazards          98.338\nSpecial_Conditions_at_Site   97.663\nHit_Object_in_Carriageway    96.999\nHit_Object_off_Carriageway   93.427\nSkidding_and_Overturning     90.408\n2nd_Road_Class               80.634\nJourney_Purpose_of_Driver    55.469\nDriver_IMD_Decile            49.542\ndtype: float64"
     },
     "execution_count": 27,
     "metadata": {},
     "output_type": "execute_result"
    }
   ],
   "source": [
    "to_drop = na_percentage[na_percentage > 40]\n",
    "to_drop"
   ],
   "metadata": {
    "collapsed": false,
    "ExecuteTime": {
     "end_time": "2024-03-28T08:58:07.227388Z",
     "start_time": "2024-03-28T08:58:07.212559Z"
    }
   },
   "id": "433c5101f8d15225",
   "execution_count": 27
  },
  {
   "cell_type": "code",
   "outputs": [],
   "source": [
    "df.drop(columns=to_drop.index, inplace=True)"
   ],
   "metadata": {
    "collapsed": false,
    "ExecuteTime": {
     "end_time": "2024-03-28T08:58:07.269131Z",
     "start_time": "2024-03-28T08:58:07.231829Z"
    }
   },
   "id": "249362bce38db661",
   "execution_count": 28
  },
  {
   "cell_type": "markdown",
   "source": [
    "# TODO \n",
    "To have equal distribution of the classes add straticitiaon for leave out severity 1\n",
    "DONE To drop accident index, road number, police force (that is info after the accident)\n",
    "DONE Normalize time to <0, 1>\n",
    "Normalize week to one-hot? \n",
    "\n",
    "DONE Join cars table on accident index\n"
   ],
   "metadata": {
    "collapsed": false
   },
   "id": "91264b0a1a17e626"
  },
  {
   "cell_type": "code",
   "outputs": [
    {
     "name": "stdout",
     "output_type": "stream",
     "text": [
      "Dropping 3 rows with NaN\n"
     ]
    },
    {
     "data": {
      "text/plain": "count   26956.000\nmean        0.585\nstd         0.211\nmin         0.001\n25%         0.431\n50%         0.614\n75%         0.740\nmax         0.999\nName: normalized_time, dtype: float64"
     },
     "execution_count": 29,
     "metadata": {},
     "output_type": "execute_result"
    }
   ],
   "source": [
    "# Normalize time of day to (0,1)\n",
    "min_in_day = 60 * 24\n",
    "print(f\"Dropping {df.Time.isna().sum()} rows with NaN\")\n",
    "df.dropna(subset=[\"Time\"], inplace=True)\n",
    "\n",
    "normalized_time = pd.to_datetime(df['Time'], format=\"%H:%M\")\n",
    "# (60*hours + minutes) / min_in_day\n",
    "df[\"normalized_time\"] = (normalized_time.dt.minute + normalized_time.dt.hour * 60) / min_in_day\n",
    "\n",
    "df.drop(columns=\"Time\", inplace=True)\n",
    "# Check min and max values\n",
    "df[\"normalized_time\"].describe()"
   ],
   "metadata": {
    "collapsed": false,
    "ExecuteTime": {
     "end_time": "2024-03-28T08:58:07.465897Z",
     "start_time": "2024-03-28T08:58:07.291389Z"
    }
   },
   "id": "49d3ce7315f2018c",
   "execution_count": 29
  },
  {
   "cell_type": "code",
   "outputs": [
    {
     "data": {
      "text/plain": "count   26956.000\nmean        0.511\nstd         0.284\nmin         0.003\n25%         0.268\n50%         0.512\n75%         0.756\nmax         1.003\nName: normalized_date, dtype: float64"
     },
     "execution_count": 30,
     "metadata": {},
     "output_type": "execute_result"
    }
   ],
   "source": [
    "# Normalize time of date to (0,1)\n",
    "normalized_date = pd.to_datetime(df['Date'], format=\"%Y-%m-%d\")\n",
    "df[\"normalized_date\"] = normalized_date.dt.dayofyear / 365\n",
    "df.drop(columns=\"Date\", inplace=True)\n",
    "df[\"normalized_date\"].describe()\n",
    "# df.Date"
   ],
   "metadata": {
    "collapsed": false,
    "ExecuteTime": {
     "end_time": "2024-03-28T08:58:07.541425Z",
     "start_time": "2024-03-28T08:58:07.468966Z"
    }
   },
   "id": "58be5560e47038ad",
   "execution_count": 30
  },
  {
   "cell_type": "code",
   "outputs": [],
   "source": [
    "to_drop = [\n",
    "    \"Accident_Index\",  # ID -> No predictive value\n",
    "    # \"1st_Road_Class\",\n",
    "    # \"1st_Road_Number\",\n",
    "    # \"2nd_Road_Number\",\n",
    "    # \"Accident_Severity\", # Target value \n",
    "    # \"Day_of_Week\",\n",
    "    \"Did_Police_Officer_Attend_Scene_of_Accident\",  # Happened after the accident\n",
    "    # \"Junction_Control\",\n",
    "    # \"Junction_Detail\",\n",
    "    \"Latitude\",  # Location data will be ignored\n",
    "    # \"Light_Conditions\",\n",
    "    # \"Local_Authority_(District)\",\n",
    "    # \"Local_Authority_(Highway)\",\n",
    "    \"Location_Easting_OSGR\",\n",
    "    \"Location_Northing_OSGR\",\n",
    "    \"Longitude\",\n",
    "    \"LSOA_of_Accident_Location\",\n",
    "    \"Number_of_Casualties\",  # Leaks info about accident severity\n",
    "    \"Number_of_Vehicles\",  # Leaks info about accident severity\n",
    "    # \"Pedestrian_Crossing-Human_Control\",\n",
    "    # \"Pedestrian_Crossing-Physical_Facilities\",\n",
    "    \"Police_Force\",\n",
    "    # \"Road_Surface_Conditions\",\n",
    "    # \"Road_Type\",\n",
    "    # \"Speed_limit\",\n",
    "    # \"Urban_or_Rural_Area\",\n",
    "    # \"Weather_Conditions\",\n",
    "    # \"Year_x\",\n",
    "    \"InScotland\",  # We dont discriminate Scotland\n",
    "    # \"Age_Band_of_Driver\",\n",
    "    # \"Age_of_Vehicle\",\n",
    "    # \"Driver_Home_Area_Type\",\n",
    "    # \"Engine_Capacity_.CC.\",\n",
    "    # \"Junction_Location\",\n",
    "    # \"make\",\n",
    "    # \"model\",\n",
    "    # \"Propulsion_Code\",\n",
    "    # \"Sex_of_Driver\",\n",
    "    # \"Towing_and_Articulation\",\n",
    "    # \"Vehicle_Leaving_Carriageway\",\n",
    "    # \"Vehicle_Location.Restricted_Lane\",\n",
    "    # \"Vehicle_Manoeuvre\",\n",
    "    # \"Vehicle_Reference\",\n",
    "    # \"Vehicle_Type\",\n",
    "    # \"Was_Vehicle_Left_Hand_Drive\",\n",
    "    # \"X1st_Point_of_Impact\",\n",
    "    # \"Year_y\",\n",
    "    # \"minutes_since_midnight\",\n",
    "    # \"normalized_time\",\n",
    "]"
   ],
   "metadata": {
    "collapsed": false,
    "ExecuteTime": {
     "end_time": "2024-03-28T08:58:07.558194Z",
     "start_time": "2024-03-28T08:58:07.546480Z"
    }
   },
   "id": "188822c479cf0bd5",
   "execution_count": 31
  },
  {
   "cell_type": "code",
   "outputs": [
    {
     "data": {
      "text/plain": "Age_of_Vehicle                                 42\nVehicle_Manoeuvre                              18\nVehicle_Type                                   17\nVehicle_Reference                              15\nYear_x                                         13\nNumber_of_Casualties                           13\nNumber_of_Vehicles                             12\nYear_y                                         12\nAge_Band_of_Driver                             11\nVehicle_Location.Restricted_Lane               10\nWeather_Conditions                              9\nJunction_Detail                                 9\nVehicle_Leaving_Carriageway                     9\nJunction_Location                               9\nDay_of_Week                                     7\nPropulsion_Code                                 7\nTowing_and_Articulation                         6\nPedestrian_Crossing-Physical_Facilities         6\nRoad_Type                                       6\nSpeed_limit                                     6\nLight_Conditions                                5\nX1st_Point_of_Impact                            5\nJunction_Control                                5\n1st_Road_Class                                  5\nRoad_Surface_Conditions                         5\nPedestrian_Crossing-Human_Control               3\nAccident_Severity                               3\nDid_Police_Officer_Attend_Scene_of_Accident     3\nUrban_or_Rural_Area                             3\nDriver_Home_Area_Type                           3\nSex_of_Driver                                   2\nInScotland                                      2\nWas_Vehicle_Left_Hand_Drive                     2\ndtype: int64"
     },
     "execution_count": 32,
     "metadata": {},
     "output_type": "execute_result"
    }
   ],
   "source": [
    "# Do one hot encoding\n",
    "unique = df.nunique()\n",
    "nominal_variables = [\n",
    "    # \"Age_of_Vehicle\",\n",
    "    \"Vehicle_Type\",\n",
    "    \"Vehicle_Manoeuvre\",\n",
    "    # \"Year_x\",\n",
    "    # \"Year_y\",\n",
    "    \"Age_Band_of_Driver\",\n",
    "    \"Vehicle_Location.Restricted_Lane\",\n",
    "    \"Junction_Location\",\n",
    "    \"Weather_Conditions\",\n",
    "    \"Junction_Detail\",\n",
    "    \"Vehicle_Leaving_Carriageway\",\n",
    "    \"Speed_limit\",\n",
    "    \"Vehicle_Reference\",\n",
    "    \"Propulsion_Code\",\n",
    "    \"Day_of_Week\",\n",
    "    \"Towing_and_Articulation\",\n",
    "    \"Road_Type\",\n",
    "    \"Pedestrian_Crossing-Physical_Facilities\",\n",
    "    \"X1st_Point_of_Impact\",\n",
    "    \"Junction_Control\",\n",
    "    \"1st_Road_Class\",\n",
    "    \"Light_Conditions\",\n",
    "    \"Road_Surface_Conditions\",\n",
    "    \"Driver_Home_Area_Type\",\n",
    "    # \"Accident_Severity\",\n",
    "    \"Urban_or_Rural_Area\",\n",
    "    \"Pedestrian_Crossing-Human_Control\",\n",
    "    \"Sex_of_Driver\",\n",
    "    \"Was_Vehicle_Left_Hand_Drive\",\n",
    "]\n",
    "unique[unique < 50].sort_values(ascending=False)"
   ],
   "metadata": {
    "collapsed": false,
    "ExecuteTime": {
     "end_time": "2024-03-28T08:58:07.716469Z",
     "start_time": "2024-03-28T08:58:07.563276Z"
    }
   },
   "id": "4d717f9409dcbc7b",
   "execution_count": 32
  },
  {
   "cell_type": "code",
   "outputs": [
    {
     "name": "stdout",
     "output_type": "stream",
     "text": [
      "[ColumnTransformer] ....... (1 of 1) Processing nominal, total=   0.8s\n"
     ]
    },
    {
     "data": {
      "text/plain": "Vehicle_Type_Agricultural vehicle                    float64\nVehicle_Type_Bus or coach (17 or more pass seats)    float64\nVehicle_Type_Car                                     float64\nVehicle_Type_Goods 7.5 tonnes mgw and over           float64\nVehicle_Type_Goods over 3.5t. and under 7.5t         float64\n                                                      ...   \nPedestrian_Crossing-Human_Control_0.0                float64\nPedestrian_Crossing-Human_Control_1.0                float64\nPedestrian_Crossing-Human_Control_2.0                float64\nSex_of_Driver_Male                                   float64\nWas_Vehicle_Left_Hand_Drive_Yes                      float64\nLength: 181, dtype: object"
     },
     "execution_count": 33,
     "metadata": {},
     "output_type": "execute_result"
    }
   ],
   "source": [
    "from sklearn.compose import ColumnTransformer  # applies transformers to columns\n",
    "from sklearn.pipeline import Pipeline  # assemble several steps\n",
    "from sklearn import set_config  # global scikit-learn configuration\n",
    "from sklearn.impute import SimpleImputer  # replace missing values using a descriptive statistic (e.g. mean, median,...)\n",
    "from sklearn.preprocessing import OrdinalEncoder  # encode categorical features as an integer array\n",
    "from sklearn.preprocessing import OneHotEncoder  # encode categorical features as a one-hot numeric array\n",
    "from sklearn.preprocessing import \\\n",
    "    StandardScaler  # standardize features by removing the mean and scaling to unit variance\n",
    "\n",
    "# here we call the new API set_config to tell sklearn we want to output a pandas DF\n",
    "set_config(transform_output=\"pandas\")\n",
    "# num_pipe = Pipeline([\n",
    "#     ('imputer', SimpleImputer(strategy='mean')),\n",
    "#     ('scaler', StandardScaler())\n",
    "# ])\n",
    "cat_pipe = Pipeline([\n",
    "    ('imputer', SimpleImputer(strategy='most_frequent')),\n",
    "    ('encode', OneHotEncoder(drop='if_binary',\n",
    "                             sparse_output=False)),\n",
    "])\n",
    "\n",
    "transformers_list = [\n",
    "    # ('numerical', num_pipe, numerical_variables),\n",
    "    ('nominal', cat_pipe, nominal_variables),\n",
    "    # ('ordinal', OrdinalEncoder(), ordinal_variables),\n",
    "    # ('delete', 'drop', to_drop)\n",
    "    #these would be removed by default, this is not necessary but better be explicit\n",
    "]\n",
    "\n",
    "# If True, ColumnTransformer.get_feature_names_out will prefix all feature names with the name of the transformer that generated that feature.\n",
    "column_transformer = ColumnTransformer(transformers_list,\n",
    "                                       verbose_feature_names_out=False,\n",
    "                                       verbose=True)\n",
    "\n",
    "transformed_raw_train = column_transformer.fit_transform(df)\n",
    "transformed_raw_train.dtypes"
   ],
   "metadata": {
    "collapsed": false,
    "ExecuteTime": {
     "end_time": "2024-03-28T08:58:08.616360Z",
     "start_time": "2024-03-28T08:58:07.718499Z"
    }
   },
   "id": "12588c408516117c",
   "execution_count": 33
  }
 ],
 "metadata": {
  "kernelspec": {
   "display_name": "Python 3",
   "language": "python",
   "name": "python3"
  },
  "language_info": {
   "codemirror_mode": {
    "name": "ipython",
    "version": 2
   },
   "file_extension": ".py",
   "mimetype": "text/x-python",
   "name": "python",
   "nbconvert_exporter": "python",
   "pygments_lexer": "ipython2",
   "version": "2.7.6"
  }
 },
 "nbformat": 4,
 "nbformat_minor": 5
}
