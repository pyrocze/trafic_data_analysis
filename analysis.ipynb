{
 "cells": [
  {
   "cell_type": "markdown",
   "id": "3c40989a-821a-4112-ba7b-ec5ce33c1dd3",
   "metadata": {},
   "source": [
    "# UK Traffic Accidents Severity Classification\n",
    "4IZ565 – Programming for Data Science in Python\n",
    "\n",
    "Spring Semester 2023/2024 Coursework\n",
    "\n",
    "Authors: Terka Lukešová, Jan Štipl"
   ]
  },
  {
   "cell_type": "markdown",
   "id": "f5cc7d67-e2db-4322-8119-dac0c39c1dad",
   "metadata": {},
   "source": [
    "## Dataset Description\n",
    "The dataset contains statistics on traffic accidents in the UK, including many attributes, such as the route category and hazards, the vehicles involved, and some information about the drivers. Our goal will be to predict the target attribute Accident Severity, whose values are Slight/Serious/Fatal.\n",
    "\n",
    "Dataset source: https://www.kaggle.com/datasets/tsiaras/uk-road-safety-accidents-and-vehicles"
   ]
  },
  {
   "cell_type": "markdown",
   "id": "ce1e521c-2c44-4959-b4db-dd6756d13b0e",
   "metadata": {},
   "source": [
    "## Exploratory Data Analysis"
   ]
  },
  {
   "cell_type": "markdown",
   "id": "b05a7f17-bd3e-49fe-a05b-0330cfd2fa77",
   "metadata": {},
   "source": [
    "### Initial settings"
   ]
  },
  {
   "cell_type": "code",
   "execution_count": null,
   "id": "1b9d165b-9080-4e73-a142-f694391aec6b",
   "metadata": {},
   "outputs": [],
   "source": [
    "import random\n",
    "import numpy as np\n",
    "import sklearn\n",
    "import pandas as pd\n",
    "\n",
    "pd.set_option('display.max_columns', None)\n",
    "pd.set_option('display.float_format', lambda x: '%.3f' % x)\n",
    "sklearn.set_config(transform_output=\"pandas\")\n",
    "\n",
    "RANDOM_STATE = 42 # used throughout the notebook to make the results reproducable\n",
    "random.seed(RANDOM_STATE)\n",
    "np.random.seed(RANDOM_STATE)"
   ]
  },
  {
   "cell_type": "markdown",
   "id": "4bd4e9f6-7c63-4eb2-9a11-6cc308c2da83",
   "metadata": {},
   "source": [
    "### Load CSV tables and merge them "
   ]
  },
  {
   "cell_type": "code",
   "execution_count": null,
   "id": "initial_id",
   "metadata": {
    "ExecuteTime": {
     "end_time": "2024-03-28T08:58:03.768365Z",
     "start_time": "2024-03-28T08:57:39.903801Z"
    }
   },
   "outputs": [],
   "source": [
    "# For speed during testing load only small percentage of the data\n",
    "p = 0.01  # 1% of the lines\n",
    "skip_rows = lambda i: i > 0 and random.random() > p\n",
    "# skip_rows = None\n",
    "\n",
    "accidents_df = pd.read_csv(\"./data/Accident_Information.csv\",\n",
    "                           skiprows=skip_rows)\n",
    "# UnicodeDecodeError: 'utf-8' codec can't decode byte 0xa0 in position 3169: invalid start byte\n",
    "vehicle_df = pd.read_csv(\"./data/Vehicle_Information.csv\", encoding=\"latin1\")"
   ]
  },
  {
   "cell_type": "code",
   "execution_count": null,
   "id": "c0eac257ec486cf6",
   "metadata": {
    "ExecuteTime": {
     "end_time": "2024-03-28T08:58:06.305117Z",
     "start_time": "2024-03-28T08:58:03.788573Z"
    },
    "collapsed": false,
    "jupyter": {
     "outputs_hidden": false
    }
   },
   "outputs": [],
   "source": [
    "df = pd.merge(accidents_df, vehicle_df, on=\"Accident_Index\", how=\"inner\")\n",
    "del vehicle_df\n",
    "del accidents_df"
   ]
  },
  {
   "cell_type": "code",
   "execution_count": null,
   "id": "c896a120-dbf9-4c8f-af07-cd5d6a4df79f",
   "metadata": {},
   "outputs": [],
   "source": [
    "df"
   ]
  },
  {
   "cell_type": "code",
   "execution_count": null,
   "id": "889802d6d414dbf7",
   "metadata": {
    "ExecuteTime": {
     "end_time": "2024-03-28T08:58:06.330376Z",
     "start_time": "2024-03-28T08:58:06.307368Z"
    },
    "collapsed": false,
    "jupyter": {
     "outputs_hidden": false
    }
   },
   "outputs": [],
   "source": [
    "df.dtypes"
   ]
  },
  {
   "cell_type": "code",
   "execution_count": null,
   "id": "b25dc2efeca30234",
   "metadata": {
    "ExecuteTime": {
     "end_time": "2024-03-28T08:58:06.509101Z",
     "start_time": "2024-03-28T08:58:06.335275Z"
    },
    "collapsed": false,
    "jupyter": {
     "outputs_hidden": false
    }
   },
   "outputs": [],
   "source": [
    "df.select_dtypes(include=['object']).nunique()"
   ]
  },
  {
   "cell_type": "markdown",
   "id": "7a2eede07242d053",
   "metadata": {
    "collapsed": false,
    "jp-MarkdownHeadingCollapsed": true,
    "jupyter": {
     "outputs_hidden": false
    }
   },
   "source": [
    "### Problems\n",
    "* Unclassified and NaN in the same columns -> we have to merge\n",
    "* Categorical values and not one-hot encoded"
   ]
  },
  {
   "cell_type": "markdown",
   "id": "35701b36-d523-461e-a5c5-e7c55fc49b18",
   "metadata": {},
   "source": [
    "## Data preprocessing"
   ]
  },
  {
   "cell_type": "markdown",
   "id": "02b47c1c-3924-42f2-bc96-356eec45ce9c",
   "metadata": {},
   "source": [
    "### Separate the target class from attributes"
   ]
  },
  {
   "cell_type": "code",
   "execution_count": null,
   "id": "f07bcb59-2e6d-4060-828f-6b8da7c5ec9a",
   "metadata": {},
   "outputs": [],
   "source": [
    "target_variable = 'Accident_Severity'\n",
    "X, y = df.loc[:, df.columns != target_variable], df[target_variable]\n",
    "del df"
   ]
  },
  {
   "cell_type": "markdown",
   "id": "fc3a6483-8a88-4c2b-aa93-a43d61370453",
   "metadata": {},
   "source": [
    "### Consolidate string values Unknown/Unclassified to NaN"
   ]
  },
  {
   "cell_type": "code",
   "execution_count": null,
   "id": "a6bfcba0-4d40-4c3c-a11c-b779e155be85",
   "metadata": {},
   "outputs": [],
   "source": [
    "X.replace(\n",
    "    [\n",
    "        \"Not known\",\n",
    "        \"Data missing or out of range\",\n",
    "        \"Unclassified\"\n",
    "    ],\n",
    "    np.nan, inplace=True)\n",
    "X.fillna(np.nan, inplace=True)"
   ]
  },
  {
   "cell_type": "markdown",
   "id": "8dbe7554-2e30-45ab-8f0d-dacd380e21d4",
   "metadata": {},
   "source": [
    "### Train-test split\n",
    "Our train-test ratio is 80:20. We make use of stratification because the target class is imbalanced."
   ]
  },
  {
   "cell_type": "code",
   "execution_count": null,
   "id": "2fdd9895-5c83-4dd5-8bea-623322a0ba35",
   "metadata": {},
   "outputs": [],
   "source": [
    "from sklearn.model_selection import train_test_split\n",
    "\n",
    "X_train, X_test, y_train, y_test = train_test_split(X, y, stratify=y, test_size=0.2, random_state=RANDOM_STATE)\n",
    "del X\n",
    "del y"
   ]
  },
  {
   "cell_type": "markdown",
   "id": "f8b85f952fea9072",
   "metadata": {
    "collapsed": false,
    "jupyter": {
     "outputs_hidden": false
    }
   },
   "source": [
    "### Drop columns with too many missing values\n",
    "The columns are identified on the train set, the drop is then applied to the test set too"
   ]
  },
  {
   "cell_type": "code",
   "execution_count": null,
   "id": "8e1ed9000045e097",
   "metadata": {
    "ExecuteTime": {
     "end_time": "2024-03-28T08:58:07.205473Z",
     "start_time": "2024-03-28T08:58:06.516036Z"
    },
    "collapsed": false,
    "jupyter": {
     "outputs_hidden": false
    }
   },
   "outputs": [],
   "source": [
    "# Get percentage of NaN values for each column\n",
    "na_percentage = X_train.isna().mean() * 100\n",
    "na_percentage.sort_values(ascending=False, inplace=True)\n",
    "na_percentage"
   ]
  },
  {
   "cell_type": "code",
   "execution_count": null,
   "id": "433c5101f8d15225",
   "metadata": {
    "ExecuteTime": {
     "end_time": "2024-03-28T08:58:07.227388Z",
     "start_time": "2024-03-28T08:58:07.212559Z"
    },
    "collapsed": false,
    "jupyter": {
     "outputs_hidden": false
    }
   },
   "outputs": [],
   "source": [
    "to_drop = na_percentage[na_percentage > 40]\n",
    "to_drop"
   ]
  },
  {
   "cell_type": "code",
   "execution_count": null,
   "id": "249362bce38db661",
   "metadata": {
    "ExecuteTime": {
     "end_time": "2024-03-28T08:58:07.269131Z",
     "start_time": "2024-03-28T08:58:07.231829Z"
    },
    "collapsed": false,
    "jupyter": {
     "outputs_hidden": false
    }
   },
   "outputs": [],
   "source": [
    "X_train.drop(columns=to_drop.index, inplace=True)\n",
    "X_test.drop(columns=to_drop.index, inplace=True)"
   ]
  },
  {
   "cell_type": "markdown",
   "id": "16a57855-efae-4afb-8564-c6b83d1315f9",
   "metadata": {},
   "source": [
    "### Transformers"
   ]
  },
  {
   "cell_type": "code",
   "execution_count": null,
   "id": "18f8c570-1657-4d0e-8352-0e7b769b08dd",
   "metadata": {},
   "outputs": [],
   "source": [
    "# Extract month from date\n",
    "month_extractor = lambda x: pd.to_datetime(x['Date'], format='%Y-%m-%d').dt.month\n",
    "X_train['month'] = month_extractor(X_train)\n",
    "X_test['month'] = month_extractor(X_test)\n",
    "\n",
    "# Extract hour from time\n",
    "hour_extractor = lambda x: pd.to_datetime(x['Time'], format='%H:%M').dt.hour\n",
    "X_train['hour'] = month_extractor(X_train)\n",
    "X_test['hour'] = month_extractor(X_test)"
   ]
  },
  {
   "cell_type": "code",
   "execution_count": null,
   "id": "5853f404-0871-44e1-a7ce-08c2ce06c2da",
   "metadata": {},
   "outputs": [],
   "source": [
    "numerical_variables = [\n",
    "     # 'Number_of_Casualties', # Leaks info about accident severity\n",
    "     # 'Number_of_Vehicles', # Leaks info about accident severity\n",
    "    'Speed_limit',\n",
    "    'Age_of_Vehicle',\n",
    "    'Engine_Capacity_.CC.',\n",
    "]\n",
    "\n",
    "nominal_variables = [\n",
    "    'Day_of_Week',\n",
    "    'month',\n",
    "    'hour',\n",
    "    'Carriageway_Hazards',\n",
    "    'Junction_Detail',\n",
    "    'Pedestrian_Crossing-Human_Control',\n",
    "    'Pedestrian_Crossing-Physical_Facilities',\n",
    "    'Road_Type',\n",
    "    'Special_Conditions_at_Site',\n",
    "    'Urban_or_Rural_Area',\n",
    "    'Weather_Conditions',\n",
    "    'Driver_Home_Area_Type',\n",
    "    'Hit_Object_in_Carriageway',\n",
    "    'Hit_Object_off_Carriageway',\n",
    "    'Junction_Location',\n",
    "    'make',\n",
    "    'Propulsion_Code',\n",
    "    'Sex_of_Driver',\n",
    "    'Skidding_and_Overturning',\n",
    "    'Towing_and_Articulation',\n",
    "    'Vehicle_Leaving_Carriageway',\n",
    "    'Vehicle_Location.Restricted_Lane',\n",
    "    'Vehicle_Manoeuvre',\n",
    "    'Vehicle_Type',\n",
    "    'Was_Vehicle_Left_Hand_Drive',\n",
    "    'X1st_Point_of_Impact',\n",
    "]\n",
    "\n",
    "# Order of the values can be determined lexicographically\n",
    "ordinal_variables_auto = [\n",
    "    'Age_Band_of_Driver',\n",
    "    'Driver_IMD_Decile',\n",
    "]"
   ]
  },
  {
   "cell_type": "code",
   "execution_count": null,
   "id": "c6ac7c76-6beb-4024-a21a-10c547ecc642",
   "metadata": {},
   "outputs": [],
   "source": [
    "# Correct order must be set manually\n",
    "ordinal_variables_manual = [\n",
    "    '1st_Road_Class',\n",
    "    'Junction_Control',\n",
    "    'Light_Conditions',\n",
    "    'Road_Surface_Conditions',\n",
    "]\n",
    "\n",
    "road_class_categories = ['Motorway', 'A(M)', 'A', 'B', 'C']\n",
    "\n",
    "junction_control_categories = [\n",
    "    'Not at junction or within 20 metres',\n",
    "    'Authorised person',\n",
    "    'Auto traffic signal',\n",
    "    'Stop sign',\n",
    "    'Give way or uncontrolled',\n",
    "]\n",
    "\n",
    "light_conditions_categories = [\n",
    "    'Daylight',\n",
    "    'Darkness - lights lit',\n",
    "    'Darkness - lighting unknown',\n",
    "    'Darkness - lights unlit',\n",
    "    'Darkness - no lighting',\n",
    "]\n",
    "\n",
    "road_surface_conditions_categories = [\n",
    "    'Dry',\n",
    "    'Wet or damp',\n",
    "    'Snow',\n",
    "    'Frost or ice',\n",
    "    'Flood over 3cm. deep',\n",
    "]\n",
    "\n",
    "manual_categories = [\n",
    "    road_class_categories,\n",
    "    junction_control_categories,\n",
    "    light_conditions_categories,\n",
    "    road_surface_conditions_categories,\n",
    "]"
   ]
  },
  {
   "cell_type": "code",
   "execution_count": null,
   "id": "e662db7f-ec8b-43cf-bb48-46e7207bb7eb",
   "metadata": {},
   "outputs": [],
   "source": [
    "X_train.filter(nominal_variables + ordinal_variables_auto + ordinal_variables_manual).nunique()"
   ]
  },
  {
   "cell_type": "code",
   "execution_count": null,
   "id": "12588c408516117c",
   "metadata": {
    "ExecuteTime": {
     "end_time": "2024-03-28T08:58:08.616360Z",
     "start_time": "2024-03-28T08:58:07.718499Z"
    },
    "collapsed": false,
    "jupyter": {
     "outputs_hidden": false
    }
   },
   "outputs": [],
   "source": [
    "from sklearn.compose import ColumnTransformer  # applies transformers to columns\n",
    "from sklearn.pipeline import Pipeline  # assemble several steps\n",
    "from sklearn.impute import SimpleImputer  # replace missing values using a descriptive statistic (e.g. mean, median,...)\n",
    "from sklearn.preprocessing import OrdinalEncoder  # encode categorical features as an integer array\n",
    "from sklearn.preprocessing import OneHotEncoder  # encode categorical features as a one-hot numeric array\n",
    "from sklearn.preprocessing import StandardScaler  # standardize features by removing the mean and scaling to unit variance\n",
    "\n",
    "num_pipe = Pipeline([\n",
    "    ('imputer', SimpleImputer(strategy='mean')),\n",
    "    ('scaler', StandardScaler()),\n",
    "])\n",
    "\n",
    "cat_pipe = Pipeline([\n",
    "    ('imputer', SimpleImputer(strategy='most_frequent')),\n",
    "    ('encode', OneHotEncoder(drop='if_binary', sparse_output=False)),\n",
    "])\n",
    "\n",
    "ord_pipe_auto = Pipeline([\n",
    "    ('imputer', SimpleImputer(strategy='most_frequent')),\n",
    "    ('encode', OrdinalEncoder()),\n",
    "])\n",
    "\n",
    "ord_pipe_manual = Pipeline([\n",
    "    ('imputer', SimpleImputer(strategy='most_frequent')),\n",
    "    ('encode', OrdinalEncoder(categories=manual_categories)),\n",
    "])\n",
    "\n",
    "transformers_list = [\n",
    "    ('numerical', num_pipe, numerical_variables),\n",
    "    ('nominal', cat_pipe, nominal_variables),\n",
    "    ('ordinal_auto', ord_pipe_auto, ordinal_variables_auto),\n",
    "    ('ordinal_manual', ord_pipe_manual, ordinal_variables_manual),\n",
    "]\n",
    "\n",
    "column_transformer = ColumnTransformer(transformers_list,\n",
    "                                       remainder='drop',\n",
    "# If True, ColumnTransformer.get_feature_names_out will prefix all feature names with the name of the transformer that generated that feature.\n",
    "                                       verbose_feature_names_out=False,\n",
    "                                       verbose=False)"
   ]
  },
  {
   "cell_type": "code",
   "execution_count": null,
   "id": "123704bb-08e3-43bb-b040-ea79b4b1806a",
   "metadata": {},
   "outputs": [],
   "source": [
    "from sklearn.preprocessing import LabelEncoder\n",
    "\n",
    "label_encoder = LabelEncoder()\n",
    "y_train = label_encoder.fit_transform(y_train)\n",
    "y_test = label_encoder.transform(y_test)\n",
    "label_encoder.classes_"
   ]
  },
  {
   "cell_type": "markdown",
   "id": "d7ad138d-3174-4d12-aa7a-6a415cf14210",
   "metadata": {},
   "source": [
    "## Modeling"
   ]
  },
  {
   "cell_type": "code",
   "execution_count": null,
   "id": "1ebb28d9-9972-439c-8e3c-dc4203b6417b",
   "metadata": {},
   "outputs": [],
   "source": [
    "from sklearn.tree import DecisionTreeClassifier\n",
    "from sklearn.feature_selection import RFE\n",
    "from sklearn.linear_model import LogisticRegression\n",
    "from sklearn.ensemble import RandomForestClassifier\n",
    "from sklearn.model_selection import GridSearchCV\n",
    "from joblib import parallel_backend\n",
    "\n",
    "decision_tree = DecisionTreeClassifier(random_state=RANDOM_STATE, class_weight='balanced')\n",
    "feaure_selection = RFE(estimator=decision_tree, n_features_to_select=50, step=1, verbose=2)"
   ]
  },
  {
   "cell_type": "markdown",
   "id": "db7caae5-7efd-45d0-ac97-e4edf79eff58",
   "metadata": {},
   "source": [
    "### Logistic Regression"
   ]
  },
  {
   "cell_type": "code",
   "execution_count": null,
   "id": "a8cd1d90-c8ca-40a4-a79a-214b80e445df",
   "metadata": {},
   "outputs": [],
   "source": [
    "param_grid_regression = {\n",
    "    'clf__penalty': ('l2', 'l1', 'elasticnet'),\n",
    "    'clf__C': (0.1, 1, 10, 100),\n",
    "}\n",
    "\n",
    "classification_pipeline_regression = Pipeline([\n",
    "    ('prep', column_transformer),\n",
    "    ('select', feaure_selection),\n",
    "    ('clf', LogisticRegression(random_state=RANDOM_STATE, class_weight='balanced', verbose=2))\n",
    "])\n",
    "\n",
    "search_acc_regression = GridSearchCV(estimator=classification_pipeline_regression, param_grid=param_grid_regression, scoring='accuracy', verbose=2, n_jobs=-1)\n",
    "\n",
    "with parallel_backend('threading', n_jobs=-1):\n",
    "    search_acc_regression.fit(X_train, y_train)"
   ]
  },
  {
   "cell_type": "code",
   "execution_count": null,
   "id": "b591a995-7640-4cd0-a7b6-7a4155d01d85",
   "metadata": {},
   "outputs": [],
   "source": [
    "search_acc_regression.best_estimator_"
   ]
  },
  {
   "cell_type": "markdown",
   "id": "da941fcb-8754-49c7-812d-a458afd4b74e",
   "metadata": {},
   "source": [
    "### Random Forest"
   ]
  },
  {
   "cell_type": "code",
   "execution_count": null,
   "id": "0b21cc39-d86c-409e-938b-b9e609cc4f25",
   "metadata": {},
   "outputs": [],
   "source": [
    "param_grid_forest = {\n",
    "    'clf__criterion' : ('gini', 'entropy'),\n",
    "    'clf__max_depth': (1,2,3,4,5,6,7,8,9,10),\n",
    "    'clf__min_samples_leaf': (1,2,3,4,5,6,7,8,9,10),\n",
    "}\n",
    "\n",
    "classification_pipeline_forest = Pipeline([\n",
    "    ('prep', column_transformer),\n",
    "    ('select', feaure_selection),\n",
    "    ('clf', RandomForestClassifier(random_state=RANDOM_STATE, class_weight='balanced'))\n",
    "])\n",
    "\n",
    "search_acc_forest = GridSearchCV(estimator=classification_pipeline_forest, param_grid=param_grid_forest, scoring='accuracy')\n",
    "\n",
    "with parallel_backend('threading', n_jobs=-1):\n",
    "    search_acc_forest.fit(X_train, y_train)"
   ]
  },
  {
   "cell_type": "code",
   "execution_count": null,
   "id": "5685f145-2742-4700-954f-dad4cc24d294",
   "metadata": {},
   "outputs": [],
   "source": [
    "search_acc_forest.best_estimator_"
   ]
  },
  {
   "cell_type": "markdown",
   "id": "6eaa2631-1ad1-47de-bb3a-e4430bf1a6a3",
   "metadata": {},
   "source": [
    "## Results and Evaluation"
   ]
  },
  {
   "cell_type": "markdown",
   "id": "2ce8fbd6-0d3b-46ca-823e-028e108e755f",
   "metadata": {},
   "source": [
    "### Logistic Regression"
   ]
  },
  {
   "cell_type": "code",
   "execution_count": null,
   "id": "f0ef928c-d121-41b6-a437-d0ad02ffd57c",
   "metadata": {},
   "outputs": [],
   "source": [
    "search_acc_regression.best_score_"
   ]
  },
  {
   "cell_type": "code",
   "execution_count": null,
   "id": "8cc55190-8a7a-40ff-925d-63af2b0fb31e",
   "metadata": {},
   "outputs": [],
   "source": [
    "search_acc_regression.score(X_test, y_test)"
   ]
  },
  {
   "cell_type": "markdown",
   "id": "ea146bcc-c547-4271-a88d-a912cf2152d7",
   "metadata": {},
   "source": [
    "### Random Forest"
   ]
  },
  {
   "cell_type": "code",
   "execution_count": null,
   "id": "efab4396-9fa5-4611-8399-6345c013e352",
   "metadata": {},
   "outputs": [],
   "source": [
    "search_acc_forest.best_score_"
   ]
  },
  {
   "cell_type": "code",
   "execution_count": null,
   "id": "96fe3621-8bb6-47a1-8da2-9002be502ea0",
   "metadata": {},
   "outputs": [],
   "source": [
    "search_acc_forest.score(X_test, y_test)"
   ]
  },
  {
   "cell_type": "markdown",
   "id": "5c2ce4d6-b88f-4608-9cd1-9e3788e132a1",
   "metadata": {},
   "source": [
    "### Conclusion\n",
    "TODO\n"
   ]
  }
 ],
 "metadata": {
  "kernelspec": {
   "display_name": "Python 3 (ipykernel)",
   "language": "python",
   "name": "python3"
  },
  "language_info": {
   "codemirror_mode": {
    "name": "ipython",
    "version": 3
   },
   "file_extension": ".py",
   "mimetype": "text/x-python",
   "name": "python",
   "nbconvert_exporter": "python",
   "pygments_lexer": "ipython3",
   "version": "3.12.2"
  }
 },
 "nbformat": 4,
 "nbformat_minor": 5
}
